{
 "cells": [
  {
   "cell_type": "code",
   "execution_count": 12,
   "id": "e5fffe73-6c53-4c55-abfa-a24744976bda",
   "metadata": {},
   "outputs": [],
   "source": [
    "import cv2\n",
    "import imutils\n",
    "import matplotlib.pyplot as plt"
   ]
  },
  {
   "cell_type": "code",
   "execution_count": 5,
   "id": "58db6648-e5a7-48a0-a0b2-deb349ccd083",
   "metadata": {},
   "outputs": [],
   "source": [
    "img1 = cv2.imread('bird.jpg')\n",
    "cv2.imshow('bard',img1)\n",
    "cv2.waitKey(0)\n",
    "cv2.destroyAllWindows()"
   ]
  },
  {
   "cell_type": "code",
   "execution_count": 16,
   "id": "ac6190e6-a51f-443e-aaaa-e4c9fbf225dc",
   "metadata": {},
   "outputs": [],
   "source": [
    "gray = cv2.imread('bird.jpg',0)\n",
    "cv2.imwrite('grayBird.jpg', gray)\n",
    "cv2.imshow('gray image', gray)\n",
    "cv2.waitKey(0)\n",
    "cv2.destroyAllWindows()"
   ]
  },
  {
   "cell_type": "code",
   "execution_count": 21,
   "id": "d47d2716-ac69-4f78-b382-0e852116b6fa",
   "metadata": {},
   "outputs": [],
   "source": [
    "rotateBird = imutils.rotate(gray, 45)\n",
    "cv2.imshow('rotated',rotateBird)\n",
    "cv2.waitKey(0)\n",
    "cv2.destroyAllWindows()"
   ]
  },
  {
   "cell_type": "code",
   "execution_count": 22,
   "id": "e384bc52-36bd-4d8d-91a4-6959feecd26a",
   "metadata": {},
   "outputs": [],
   "source": [
    "r,g,b = cv2.split(img1)\n",
    "cv2.imshow('r',r)\n",
    "cv2.waitKey(0)\n",
    "cv2.destroyAllWindows()\n",
    "cv2.imshow('g',g)\n",
    "cv2.waitKey(0)\n",
    "cv2.destroyAllWindows()\n",
    "cv2.imshow('b',b)\n",
    "cv2.waitKey(0)\n",
    "cv2.destroyAllWindows()"
   ]
  },
  {
   "cell_type": "code",
   "execution_count": 23,
   "id": "70459ebf-679a-4c89-813d-eab84932781e",
   "metadata": {},
   "outputs": [],
   "source": [
    "c = 1 - r\n",
    "m = 1 - g\n",
    "y = 1 - b\n",
    "cv2.imshow('c',c)\n",
    "cv2.waitKey(0)\n",
    "cv2.destroyAllWindows()\n",
    "cv2.imshow('m',m)\n",
    "cv2.waitKey(0)\n",
    "cv2.destroyAllWindows()\n",
    "cv2.imshow('y',y)\n",
    "cv2.waitKey(0)\n",
    "cv2.destroyAllWindows()"
   ]
  },
  {
   "cell_type": "code",
   "execution_count": null,
   "id": "d2408300-6d4c-4deb-9258-20a710080177",
   "metadata": {},
   "outputs": [],
   "source": []
  }
 ],
 "metadata": {
  "kernelspec": {
   "display_name": "Python 3 (ipykernel)",
   "language": "python",
   "name": "python3"
  },
  "language_info": {
   "codemirror_mode": {
    "name": "ipython",
    "version": 3
   },
   "file_extension": ".py",
   "mimetype": "text/x-python",
   "name": "python",
   "nbconvert_exporter": "python",
   "pygments_lexer": "ipython3",
   "version": "3.11.5"
  }
 },
 "nbformat": 4,
 "nbformat_minor": 5
}
